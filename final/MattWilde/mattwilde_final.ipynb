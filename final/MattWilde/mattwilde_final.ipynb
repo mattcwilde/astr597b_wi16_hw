{
 "cells": [
  {
   "cell_type": "markdown",
   "metadata": {},
   "source": [
    "# ASTR 597b Final Project\n",
    "\n",
    "### Matt Wilde\n",
    "\n",
    "\n",
    "\n",
    "### Create a LSD DB for the CRTS Periodic Variable Catalog\n",
    "### File consists of an ascii from:\n",
    "http://nesssi.cacr.caltech.edu/DataRelease/Varcat.html"
   ]
  },
  {
   "cell_type": "code",
   "execution_count": 1,
   "metadata": {
    "collapsed": false
   },
   "outputs": [
    {
     "name": "stdout",
     "output_type": "stream",
     "text": [
      "# Catalina_Surveys_ID   Numerical_ID  RA_(J2000)     Dec        V_(mag) Period_(days) Amplitude Number_Obs Var_Type\r\n",
      "CSS_J000020.4+103118  1109001041232  00:00:20.41   +10:31:18.9    14.62   1.491758    2.39  223 2 \r\n",
      "CSS_J000031.5-084652  1009001044997  00:00:31.50   -08:46:52.3    14.14   0.404185    0.12  163 1 \r\n",
      "CSS_J000036.9+412805  1140001063366  00:00:36.94   +41:28:05.7    17.39   0.274627    0.73  158 1 \r\n",
      "CSS_J000037.5+390308  1138001069849  00:00:37.55   +39:03:08.1    17.74   0.30691    0.23  219 1 \r\n",
      "CSS_J000103.3+105724  1109001050739  00:01:03.37   +10:57:24.4    15.25   1.5837582    0.11  223 8 \r\n",
      "CSS_J000103.4+395744  1140001014341  00:01:03.46   +39:57:44.5    15.51   1.9670131    0.14  158 1 \r\n",
      "CSS_J000106.9+120610  1112001016471  00:01:06.96   +12:06:10.3    15.85   0.297318    0.11  205 1 \r\n",
      "CSS_J000110.8+400521  1140001018252  00:01:10.89   +40:05:21.1    13.69   0.6606980    0.09  158 1 \r\n",
      "CSS_J000131.5+324913  1132001052010  00:01:31.54   +32:49:13.1    14.71   13.049549    0.17  188 8 \r\n"
     ]
    }
   ],
   "source": [
    "! head CatalinaVars.tbl"
   ]
  },
  {
   "cell_type": "markdown",
   "metadata": {},
   "source": [
    "## Create a map file may need for ascii files?"
   ]
  },
  {
   "cell_type": "code",
   "execution_count": 2,
   "metadata": {
    "collapsed": false
   },
   "outputs": [
    {
     "name": "stdout",
     "output_type": "stream",
     "text": [
      "crts_id 1\r\n",
      "num_id 2\r\n",
      "ra 3\r\n",
      "dec 4\r\n",
      "Vmag 5 \r\n",
      "period 6\r\n",
      "amplitude 7\r\n",
      "num_obs 8\r\n",
      "var_type 9"
     ]
    }
   ],
   "source": [
    "! cat crts.map"
   ]
  },
  {
   "cell_type": "markdown",
   "metadata": {},
   "source": [
    "## Create a yaml schema"
   ]
  },
  {
   "cell_type": "code",
   "execution_count": 9,
   "metadata": {
    "collapsed": false
   },
   "outputs": [
    {
     "name": "stdout",
     "output_type": "stream",
     "text": [
      "# Schema for CRTS variable star catalog, crts_vsc table\r\n",
      "filters: {complevel: 5, complib: blosc}\r\n",
      "schema:\r\n",
      "  common:\r\n",
      "    primary_key: crts_id\r\n",
      "    spatial_keys: [ra, dec]\r\n",
      "    columns:\r\n",
      "    - [crts_id, u8]\r\n",
      "    - [num_id, i8]\r\n",
      "    - [ra, f8]\r\n",
      "    - [dec, f8]\r\n",
      "    - [Vmag, f4]\r\n",
      "    - [period, f8]\r\n",
      "    - [amplitude, f4]\r\n",
      "    - [num_obs, i8]\r\n",
      "    - [var_type, i4]"
     ]
    }
   ],
   "source": [
    "! cat crts_vsc.yaml"
   ]
  },
  {
   "cell_type": "markdown",
   "metadata": {},
   "source": [
    "## Check env variables"
   ]
  },
  {
   "cell_type": "code",
   "execution_count": 4,
   "metadata": {
    "collapsed": true
   },
   "outputs": [],
   "source": [
    "! source /astro/users/mwilde/.bash_profile"
   ]
  },
  {
   "cell_type": "code",
   "execution_count": 5,
   "metadata": {
    "collapsed": false
   },
   "outputs": [
    {
     "name": "stdout",
     "output_type": "stream",
     "text": [
      "\r\n"
     ]
    }
   ],
   "source": [
    "! echo $NWORKERS"
   ]
  },
  {
   "cell_type": "markdown",
   "metadata": {},
   "source": [
    "Strange that sourceing .bash_profile doesnt work"
   ]
  },
  {
   "cell_type": "code",
   "execution_count": 6,
   "metadata": {
    "collapsed": false
   },
   "outputs": [],
   "source": [
    "import os\n",
    "\n",
    "os.environ['NWORKERS'] = '8'\n",
    "os.environ['LSD_DB'] = '/astro/users/mwilde/tempdir'\n",
    "os.environ['LSD_CACHEDIR'] = '/astro/users/mwilde/tempdir'\n",
    "os.environ['LSD_TEMPDIR'] = '/astro/users/mwilde/tempdir'"
   ]
  },
  {
   "cell_type": "code",
   "execution_count": 7,
   "metadata": {
    "collapsed": false
   },
   "outputs": [
    {
     "name": "stdout",
     "output_type": "stream",
     "text": [
      "8\r\n"
     ]
    }
   ],
   "source": [
    "! echo $NWORKERS"
   ]
  },
  {
   "cell_type": "markdown",
   "metadata": {},
   "source": [
    "## Create the Table"
   ]
  },
  {
   "cell_type": "code",
   "execution_count": 10,
   "metadata": {
    "collapsed": false
   },
   "outputs": [
    {
     "name": "stdout",
     "output_type": "stream",
     "text": [
      "Table 'crts_vsc' dropped.\n",
      "\n",
      "-------- committing 20160315193842.634457 [crts_vsc] ---------\n",
      "[crts_vsc] Updating tablet catalog: [256 el.]::::::::::::::::::::>  0.12 sec\n",
      "[crts_vsc] Updating neighbors: Already up to date.\n",
      "[crts_vsc] Updating tablet catalog: [256 el.]::::::::::::::::::::>  0.11 sec\n",
      "[crts_vsc] Updating stats: [0 el.]>  0.00 sec\n",
      "[crts_vsc] Marking tablets read-only...\n",
      "----------- success 20160315193842.634457 [crts_vsc] ---------\n",
      "\n",
      "Table 'crts_vsc' created.\n"
     ]
    }
   ],
   "source": [
    " ! lsd-admin create table --schema crts_vsc.yaml crts_vsc --drop-existing"
   ]
  },
  {
   "cell_type": "markdown",
   "metadata": {},
   "source": [
    "## Import the data"
   ]
  },
  {
   "cell_type": "code",
   "execution_count": 11,
   "metadata": {
    "collapsed": false
   },
   "outputs": [
    {
     "name": "stdout",
     "output_type": "stream",
     "text": [
      "Importing from 1 pieces:\n",
      "  ===> Imported CatalinaVars.tbl                                                       [1/1, 100.00%] +  47055/47055       47055 (0/0 min.)\n",
      "done\n",
      "\n",
      "-------- committing 20160315193853.282953 [crts_vsc] ---------\n",
      "[crts_vsc] Updating tablet catalog: [256 el.]::::::::::::::::::::>  0.14 sec\n",
      "[crts_vsc] Updating neighbors: [1 el.]::::::::::::::::::::[8 el.]++++++++++++++++++++>  0.60 sec\n",
      "           Total 373968 cached objects in 8 cells\n",
      "[crts_vsc] Updating tablet catalog: [256 el.]::::::::::::::::::::>  0.13 sec\n",
      "[crts_vsc] Updating stats: [9 el.]::::::::::::::::::::>  0.02 sec [9 el.]::::::::::::::::::::>  0.04 sec\n",
      "[crts_vsc] Marking tablets read-only...\n",
      "----------- success 20160315193853.282953 [crts_vsc] ---------\n",
      "\n"
     ]
    }
   ],
   "source": [
    "! lsd-import text --cols-file crts.map --hms ra,dec --skip-header 1 \\\n",
    "crts_vsc CatalinaVars.tbl"
   ]
  },
  {
   "cell_type": "code",
   "execution_count": null,
   "metadata": {
    "collapsed": true
   },
   "outputs": [],
   "source": []
  }
 ],
 "metadata": {
  "kernelspec": {
   "display_name": "Python 2",
   "language": "python",
   "name": "python2"
  },
  "language_info": {
   "codemirror_mode": {
    "name": "ipython",
    "version": 2
   },
   "file_extension": ".py",
   "mimetype": "text/x-python",
   "name": "python",
   "nbconvert_exporter": "python",
   "pygments_lexer": "ipython2",
   "version": "2.7.11"
  }
 },
 "nbformat": 4,
 "nbformat_minor": 0
}
